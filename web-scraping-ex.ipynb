{
 "cells": [
  {
   "cell_type": "code",
   "execution_count": 1,
   "metadata": {},
   "outputs": [
    {
     "name": "stdout",
     "output_type": "stream",
     "text": [
      "Requirement already satisfied: beautifulsoup4 in /Users/mo/opt/anaconda3/lib/python3.8/site-packages (4.9.3)\n",
      "Requirement already satisfied: soupsieve>1.2 in /Users/mo/opt/anaconda3/lib/python3.8/site-packages (from beautifulsoup4) (2.2.1)\n"
     ]
    }
   ],
   "source": [
    "!pip install beautifulsoup4"
   ]
  },
  {
   "cell_type": "code",
   "execution_count": 2,
   "metadata": {},
   "outputs": [
    {
     "name": "stdout",
     "output_type": "stream",
     "text": [
      "Requirement already satisfied: lxml in /Users/mo/opt/anaconda3/lib/python3.8/site-packages (4.6.3)\n"
     ]
    }
   ],
   "source": [
    "!pip install lxml\n"
   ]
  },
  {
   "cell_type": "code",
   "execution_count": 19,
   "metadata": {},
   "outputs": [],
   "source": [
    "from bs4 import BeautifulSoup \n",
    "import requests"
   ]
  },
  {
   "cell_type": "code",
   "execution_count": 14,
   "metadata": {},
   "outputs": [],
   "source": [
    "with open('aqar-example.html', 'r') as html_file:\n",
    "    content = html_file.read()\n",
    "      \n",
    "    soup = BeautifulSoup(content, 'lxml')\n",
    "    \n",
    "    ads = soup.find_all('div', class_='listing_LinkedListingCard__5SRvZ')\n",
    "    \n",
    "\n",
    "      \n",
    "       "
   ]
  },
  {
   "cell_type": "code",
   "execution_count": 17,
   "metadata": {},
   "outputs": [
    {
     "name": "stdout",
     "output_type": "stream",
     "text": [
      "أرض للبيع في شارع شهيد الدين ثم الوطن أمجد بن يحيي بن أحم ، حي الخير ، الرياض ، الدرعية\n",
      "عمارة للبيع في حي النورس ، الدمام ، الدمام\n",
      "شقة للبيع في شارع عبد الرحمن بن بشر العبدي ، حي النور ، الدمام ، الدمام\n",
      "دور للإيجار في حي الرمال ، الرياض ، الرياض\n",
      "فيلا للبيع في شارع الغرير ، حي الازدهار ، الرياض ، الرياض\n",
      "عمارة للبيع في حي ، شارع 10 ج ، حي محمد بن سعود ، الدمام ، الدمام\n",
      "استراحة للإيجار في شارع وادي نعمان ، حي الرمال ، الرياض ، الرياض\n",
      "أرض للبيع في شارع محمد المنوفي ، حي النرجس ، الرياض ، الرياض\n",
      "عمارة للبيع في حي المصيف ، حفر الباطن ، حفر الباطن\n",
      "أرض للبيع في شارع إسماعيل القالي ، حي النرجس ، الرياض ، الرياض\n",
      "فيلا للإيجار في شارع محمد نور فطاني ، حي عرقة ، الرياض ، الرياض\n",
      "عمارة للبيع في شارع المحمدية 103 ، حي المحمدية ، حفر الباطن ، حفر الباطن\n",
      "أرض للبيع في شارع رقم 218 ، حي الياسمين ، الرياض ، الرياض\n",
      "أرض للبيع في شارع الزيني بن ظهيرة ، حي القيروان ، الرياض ، الرياض\n",
      "شقة للإيجار في حي المونسية ، الرياض ، الرياض\n",
      "أرض للبيع في شارع سليمان الحقيل ، حي النرجس ، الرياض ، الرياض\n",
      "أرض للبيع في طريق عثمان بن عفان الفرعي ، حي النرجس ، الرياض ، الرياض\n",
      "أرض للبيع في شارع قطبة بن عامر السلمي ، مرات ، مرات\n",
      "أرض للبيع في حي المرسلات ، الرياض ، الرياض\n",
      "أرض للبيع في حي بنبان ، الرياض ، الرياض\n"
     ]
    }
   ],
   "source": [
    "for ad in ads:\n",
    "    print(ad.h4.text)\n",
    "    "
   ]
  },
  {
   "cell_type": "code",
   "execution_count": 26,
   "metadata": {},
   "outputs": [],
   "source": [
    "html_text = requests.get('https://sa.aqar.fm/%D8%B9%D9%82%D8%A7%D8%B1%D8%A7%D8%AA/4').text\n",
    "soup = BeautifulSoup(html_text, 'lxml')\n"
   ]
  },
  {
   "cell_type": "code",
   "execution_count": 27,
   "metadata": {},
   "outputs": [],
   "source": [
    "ads = soup.find_all('div', class_='listing_LinkedListingCard__5SRvZ')"
   ]
  },
  {
   "cell_type": "code",
   "execution_count": 40,
   "metadata": {},
   "outputs": [],
   "source": [
    "ad_ex = ads.pop()"
   ]
  },
  {
   "cell_type": "code",
   "execution_count": 39,
   "metadata": {},
   "outputs": [
    {
     "name": "stdout",
     "output_type": "stream",
     "text": [
      "2,000,000 ريال\n",
      "3,210,000 ريال\n",
      "3,800 ريال\n",
      "10,005,000 ريال\n",
      "50,000 ريال\n",
      "35,000 ريال\n",
      "35,000 ريال\n",
      "3,600,000 ريال\n",
      "330,000 ريال\n",
      "1,800,000 ريال\n",
      "60,000 ريال\n",
      "870,000 ريال\n",
      "55,000 ريال\n",
      "99,000 ريال\n",
      "1,075,000 ريال\n",
      "60,000 ريال\n",
      "16,000,000 ريال\n",
      "100,000 ريال\n",
      "26,500 ريال\n",
      "2,500,000 ريال\n"
     ]
    }
   ],
   "source": [
    "price = ad_ex.find('div', class_='listingCard-module_price__xxySC')\n",
    "\n",
    "for price in price:\n",
    "    print(price.text)"
   ]
  },
  {
   "cell_type": "code",
   "execution_count": 33,
   "metadata": {},
   "outputs": [
    {
     "name": "stdout",
     "output_type": "stream",
     "text": [
      "None\n",
      "None\n",
      "None\n",
      "None\n",
      "None\n",
      "None\n",
      "None\n",
      "None\n",
      "None\n",
      "None\n",
      "None\n",
      "None\n",
      "None\n",
      "None\n",
      "None\n",
      "None\n",
      "None\n",
      "None\n",
      "None\n",
      "None\n"
     ]
    }
   ],
   "source": [
    "for ad in ads:\n",
    "    print(ad.h3)\n",
    "#    <div class=\"listingCard-module_price__xxySC\">950,000 ريال</div>"
   ]
  },
  {
   "cell_type": "code",
   "execution_count": null,
   "metadata": {},
   "outputs": [],
   "source": []
  },
  {
   "cell_type": "code",
   "execution_count": 29,
   "metadata": {},
   "outputs": [
    {
     "data": {
      "text/plain": [
       "2"
      ]
     },
     "execution_count": 29,
     "metadata": {},
     "output_type": "execute_result"
    }
   ],
   "source": [
    "1+1"
   ]
  },
  {
   "cell_type": "code",
   "execution_count": null,
   "metadata": {},
   "outputs": [],
   "source": []
  },
  {
   "cell_type": "code",
   "execution_count": null,
   "metadata": {},
   "outputs": [],
   "source": []
  }
 ],
 "metadata": {
  "kernelspec": {
   "display_name": "Python 3.8.8 ('base')",
   "language": "python",
   "name": "python3"
  },
  "language_info": {
   "codemirror_mode": {
    "name": "ipython",
    "version": 3
   },
   "file_extension": ".py",
   "mimetype": "text/x-python",
   "name": "python",
   "nbconvert_exporter": "python",
   "pygments_lexer": "ipython3",
   "version": "3.8.8"
  },
  "orig_nbformat": 4,
  "vscode": {
   "interpreter": {
    "hash": "f377678b927e69392be3d32c4a144c48b4fcf75b53b3b6aab14c8f5b0aeaa57a"
   }
  }
 },
 "nbformat": 4,
 "nbformat_minor": 2
}
