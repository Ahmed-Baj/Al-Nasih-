{
 "cells": [
  {
   "cell_type": "code",
   "execution_count": 2,
   "metadata": {},
   "outputs": [],
   "source": [
    "from bs4 import BeautifulSoup \n",
    "import requests"
   ]
  },
  {
   "cell_type": "code",
   "execution_count": 7,
   "metadata": {},
   "outputs": [],
   "source": [
    "with open('aqar-example.html', 'r') as html_file:\n",
    "    content = html_file.read()\n",
    "      \n",
    "    soup = BeautifulSoup(content, 'lxml')\n",
    "    \n",
    "    ads = soup.find_all('div', class_='listing_LinkedListingCard__5SRvZ')\n",
    "    \n",
    "\n",
    "      \n",
    "       "
   ]
  },
  {
   "cell_type": "code",
   "execution_count": 8,
   "metadata": {},
   "outputs": [
    {
     "name": "stdout",
     "output_type": "stream",
     "text": [
      "أرض للبيع في شارع شهيد الدين ثم الوطن أمجد بن يحيي بن أحم ، حي الخير ، الرياض ، الدرعية\n",
      "عمارة للبيع في حي النورس ، الدمام ، الدمام\n",
      "شقة للبيع في شارع عبد الرحمن بن بشر العبدي ، حي النور ، الدمام ، الدمام\n",
      "دور للإيجار في حي الرمال ، الرياض ، الرياض\n",
      "فيلا للبيع في شارع الغرير ، حي الازدهار ، الرياض ، الرياض\n",
      "عمارة للبيع في حي ، شارع 10 ج ، حي محمد بن سعود ، الدمام ، الدمام\n",
      "استراحة للإيجار في شارع وادي نعمان ، حي الرمال ، الرياض ، الرياض\n",
      "أرض للبيع في شارع محمد المنوفي ، حي النرجس ، الرياض ، الرياض\n",
      "عمارة للبيع في حي المصيف ، حفر الباطن ، حفر الباطن\n",
      "أرض للبيع في شارع إسماعيل القالي ، حي النرجس ، الرياض ، الرياض\n",
      "فيلا للإيجار في شارع محمد نور فطاني ، حي عرقة ، الرياض ، الرياض\n",
      "عمارة للبيع في شارع المحمدية 103 ، حي المحمدية ، حفر الباطن ، حفر الباطن\n",
      "أرض للبيع في شارع رقم 218 ، حي الياسمين ، الرياض ، الرياض\n",
      "أرض للبيع في شارع الزيني بن ظهيرة ، حي القيروان ، الرياض ، الرياض\n",
      "شقة للإيجار في حي المونسية ، الرياض ، الرياض\n",
      "أرض للبيع في شارع سليمان الحقيل ، حي النرجس ، الرياض ، الرياض\n",
      "أرض للبيع في طريق عثمان بن عفان الفرعي ، حي النرجس ، الرياض ، الرياض\n",
      "أرض للبيع في شارع قطبة بن عامر السلمي ، مرات ، مرات\n",
      "أرض للبيع في حي المرسلات ، الرياض ، الرياض\n",
      "أرض للبيع في حي بنبان ، الرياض ، الرياض\n"
     ]
    }
   ],
   "source": [
    "for ad in ads:\n",
    "    print(ad.h4.text)\n",
    "    "
   ]
  },
  {
   "cell_type": "code",
   "execution_count": 3,
   "metadata": {},
   "outputs": [],
   "source": [
    "html_text = requests.get('https://sa.aqar.fm/%D8%B9%D9%82%D8%A7%D8%B1%D8%A7%D8%AA/4').text\n",
    "soup = BeautifulSoup(html_text, 'lxml')\n"
   ]
  },
  {
   "cell_type": "code",
   "execution_count": 4,
   "metadata": {},
   "outputs": [],
   "source": [
    "ads = soup.find_all('div', class_='listing_LinkedListingCard__5SRvZ')\n",
    "ad_ex = ads.pop()"
   ]
  },
  {
   "cell_type": "code",
   "execution_count": null,
   "metadata": {},
   "outputs": [],
   "source": [
    "url = \"https://sa.aqar.fm\" + ad_ex['href']\n",
    "html_text = requests.get(url).text\n",
    "ad_soup = BeautifulSoup(html_text, 'lxml')\n",
    "ad_soup"
   ]
  },
  {
   "cell_type": "code",
   "execution_count": 62,
   "metadata": {},
   "outputs": [],
   "source": [
    "url = \"https://sa.aqar.fm/%D8%B4%D9%82%D9%82-%D9%84%D9%84%D8%A5%D9%8A%D8%AC%D8%A7%D8%B1/%D8%A7%D9%84%D8%B1%D9%8A%D8%A7%D8%B6/%D8%B4%D8%B1%D9%82-%D8%A7%D9%84%D8%B1%D9%8A%D8%A7%D8%B6/%D8%AD%D9%8A-%D8%A7%D9%84%D9%85%D9%84%D8%B2/%D8%B4%D8%A7%D8%B1%D8%B9-%D8%A7%D9%84%D8%AC%D8%A7%D9%85%D8%B9%D8%A9-%D8%AD%D9%8A-%D8%A7%D9%84%D9%85%D9%84%D8%B2-%D8%A7%D9%84%D8%B1%D9%8A%D8%A7%D8%B6-%D8%A7%D9%84%D8%B1%D9%8A%D8%A7%D8%B6-4268950\"\n",
    "html_text = requests.get(url).text\n",
    "ad_soup_malaz = BeautifulSoup(html_text, 'lxml')\n"
   ]
  },
  {
   "cell_type": "code",
   "execution_count": null,
   "metadata": {},
   "outputs": [],
   "source": [
    "url = \"https://sa.aqar.fm/%D8%B4%D9%82%D9%82-%D9%84%D9%84%D8%A5%D9%8A%D8%AC%D8%A7%D8%B1/%D8%A7%D9%84%D8%B1%D9%8A%D8%A7%D8%B6/%D8%B4%D8%B1%D9%82-%D8%A7%D9%84%D8%B1%D9%8A%D8%A7%D8%B6/%D8%AD%D9%8A-%D8%A7%D9%84%D9%85%D9%84%D8%B2/%D8%B4%D8%A7%D8%B1%D8%B9-%D8%A7%D9%84%D8%AC%D8%A7%D9%85%D8%B9%D8%A9-%D8%AD%D9%8A-%D8%A7%D9%84%D9%85%D9%84%D8%B2-%D8%A7%D9%84%D8%B1%D9%8A%D8%A7%D8%B6-%D8%A7%D9%84%D8%B1%D9%8A%D8%A7%D8%B6-4268950\"\n",
    "html_text = requests.get(url).text\n",
    "ad_soup = BeautifulSoup(html_text, 'lxml')\n",
    "# ad_soup\n",
    "\n",
    "# temp = temp.find('div', class_=\"\")"
   ]
  },
  {
   "cell_type": "code",
   "execution_count": 77,
   "metadata": {},
   "outputs": [],
   "source": [
    "with open('ad-malaz.html', 'r') as html_file:\n",
    "    content = html_file.read()\n",
    "      \n",
    "    ad_soup_malaz = BeautifulSoup(content, 'lxml')\n",
    "    \n",
    "    #ad_soup_malaz = soup.find_all('div', class_='listing_LinkedListingCard__5SRvZ')\n",
    "    \n"
   ]
  },
  {
   "cell_type": "code",
   "execution_count": 78,
   "metadata": {},
   "outputs": [],
   "source": [
    "def get_attributes_soup(soup):\n",
    "    temp = soup.find('div', id='__next')\n",
    "    temp = temp.find('div', class_='layouts_layoutWrapper__eSdLv')\n",
    "    temp = temp.find('div', class_='listingScreen_listingScreen__TWzQJ')\n",
    "    temp = temp.find('div', class_='listingScreen_container__iD5EV')\n",
    "    temp = temp.find('div', class_='listingScreen_detailsSection__TjbgF')\n",
    "    temp = temp.find('div', class_='listingScreen_specsCard__hvCXt')\n",
    "    print(temp)\n",
    "    attributes_soup = temp.find('div', class_='SpecsCard-module_specsCard__FMUhu Card-module_card__TCPyF')\n",
    "    print(attributes_soup)\n",
    "    return attributes_soup\n"
   ]
  },
  {
   "cell_type": "code",
   "execution_count": 79,
   "metadata": {},
   "outputs": [],
   "source": [
    "def get_attribute(soup, index, type_text):\n",
    "    temp = get_attributes_soup(soup)\n",
    "    temp = temp.find_all('div', class_='SpecsCard-module_row__UxNZ7 SpecsCard-module_twoCol__eHTzI').pop(index) \n",
    "    temp = temp.find_all('div', class_='SpecsCard-module_col__SHW1F').pop(1)\n",
    "    temp = temp.find('div', class_='SpecsCard-module_value__7U7rW')\n",
    "    if type_text:\n",
    "        # if desired value is a string\n",
    "        result = temp.text\n",
    "    else:\n",
    "        # if desired value is a url to an image file\n",
    "        result = temp.img['src']\n",
    "    \n",
    "    return result\n",
    "    \n",
    "        "
   ]
  },
  {
   "cell_type": "code",
   "execution_count": 80,
   "metadata": {},
   "outputs": [
    {
     "name": "stdout",
     "output_type": "stream",
     "text": [
      "<div class=\"listingScreen_specsCard__hvCXt\"><div class=\"SpecsCard-module_specsCard__FMUhu Card-module_card__TCPyF\"></div><div class=\"listingScreen_advertiserDetails__bA1EH\"><div>تاريخ الاضافة: 2022/04/25</div></div></div>\n",
      "<div class=\"SpecsCard-module_specsCard__FMUhu Card-module_card__TCPyF\"></div>\n"
     ]
    },
    {
     "ename": "IndexError",
     "evalue": "pop from empty list",
     "output_type": "error",
     "traceback": [
      "\u001b[0;31m---------------------------------------------------------------------------\u001b[0m",
      "\u001b[0;31mIndexError\u001b[0m                                Traceback (most recent call last)",
      "\u001b[0;32m<ipython-input-80-1ba1600d6035>\u001b[0m in \u001b[0;36m<module>\u001b[0;34m\u001b[0m\n\u001b[0;32m----> 1\u001b[0;31m \u001b[0mget_attribute\u001b[0m\u001b[0;34m(\u001b[0m\u001b[0mad_soup_malaz\u001b[0m\u001b[0;34m,\u001b[0m \u001b[0;36m0\u001b[0m\u001b[0;34m,\u001b[0m \u001b[0;32mTrue\u001b[0m\u001b[0;34m)\u001b[0m\u001b[0;34m\u001b[0m\u001b[0;34m\u001b[0m\u001b[0m\n\u001b[0m",
      "\u001b[0;32m<ipython-input-79-cc98beb285e0>\u001b[0m in \u001b[0;36mget_attribute\u001b[0;34m(soup, index, type_text)\u001b[0m\n\u001b[1;32m      1\u001b[0m \u001b[0;32mdef\u001b[0m \u001b[0mget_attribute\u001b[0m\u001b[0;34m(\u001b[0m\u001b[0msoup\u001b[0m\u001b[0;34m,\u001b[0m \u001b[0mindex\u001b[0m\u001b[0;34m,\u001b[0m \u001b[0mtype_text\u001b[0m\u001b[0;34m)\u001b[0m\u001b[0;34m:\u001b[0m\u001b[0;34m\u001b[0m\u001b[0;34m\u001b[0m\u001b[0m\n\u001b[1;32m      2\u001b[0m     \u001b[0mtemp\u001b[0m \u001b[0;34m=\u001b[0m \u001b[0mget_attributes_soup\u001b[0m\u001b[0;34m(\u001b[0m\u001b[0msoup\u001b[0m\u001b[0;34m)\u001b[0m\u001b[0;34m\u001b[0m\u001b[0;34m\u001b[0m\u001b[0m\n\u001b[0;32m----> 3\u001b[0;31m     \u001b[0mtemp\u001b[0m \u001b[0;34m=\u001b[0m \u001b[0mtemp\u001b[0m\u001b[0;34m.\u001b[0m\u001b[0mfind_all\u001b[0m\u001b[0;34m(\u001b[0m\u001b[0;34m'div'\u001b[0m\u001b[0;34m,\u001b[0m \u001b[0mclass_\u001b[0m\u001b[0;34m=\u001b[0m\u001b[0;34m'SpecsCard-module_row__UxNZ7 SpecsCard-module_twoCol__eHTzI'\u001b[0m\u001b[0;34m)\u001b[0m\u001b[0;34m.\u001b[0m\u001b[0mpop\u001b[0m\u001b[0;34m(\u001b[0m\u001b[0mindex\u001b[0m\u001b[0;34m)\u001b[0m\u001b[0;34m\u001b[0m\u001b[0;34m\u001b[0m\u001b[0m\n\u001b[0m\u001b[1;32m      4\u001b[0m     \u001b[0mtemp\u001b[0m \u001b[0;34m=\u001b[0m \u001b[0mtemp\u001b[0m\u001b[0;34m.\u001b[0m\u001b[0mfind_all\u001b[0m\u001b[0;34m(\u001b[0m\u001b[0;34m'div'\u001b[0m\u001b[0;34m,\u001b[0m \u001b[0mclass_\u001b[0m\u001b[0;34m=\u001b[0m\u001b[0;34m'SpecsCard-module_col__SHW1F'\u001b[0m\u001b[0;34m)\u001b[0m\u001b[0;34m.\u001b[0m\u001b[0mpop\u001b[0m\u001b[0;34m(\u001b[0m\u001b[0;36m1\u001b[0m\u001b[0;34m)\u001b[0m\u001b[0;34m\u001b[0m\u001b[0;34m\u001b[0m\u001b[0m\n\u001b[1;32m      5\u001b[0m     \u001b[0mtemp\u001b[0m \u001b[0;34m=\u001b[0m \u001b[0mtemp\u001b[0m\u001b[0;34m.\u001b[0m\u001b[0mfind\u001b[0m\u001b[0;34m(\u001b[0m\u001b[0;34m'div'\u001b[0m\u001b[0;34m,\u001b[0m \u001b[0mclass_\u001b[0m\u001b[0;34m=\u001b[0m\u001b[0;34m'SpecsCard-module_value__7U7rW'\u001b[0m\u001b[0;34m)\u001b[0m\u001b[0;34m\u001b[0m\u001b[0;34m\u001b[0m\u001b[0m\n",
      "\u001b[0;31mIndexError\u001b[0m: pop from empty list"
     ]
    }
   ],
   "source": [
    "get_attribute(ad_soup_malaz, 0, True)"
   ]
  },
  {
   "cell_type": "code",
   "execution_count": 49,
   "metadata": {},
   "outputs": [
    {
     "name": "stdout",
     "output_type": "stream",
     "text": [
      "['helllo', 'world']\n"
     ]
    }
   ],
   "source": [
    "stri = \"helllo world\"\n",
    "lst = stri.split()\n",
    "print(lst)"
   ]
  },
  {
   "cell_type": "code",
   "execution_count": null,
   "metadata": {},
   "outputs": [],
   "source": [
    "def get_attributes_soup(soup):\n",
    "    temp = soup.find('div', id='__next')\n",
    "    temp = temp.find('div', class_='layouts_layoutWrapper__eSdLv')\n",
    "    temp = temp.find('div', class_='listingScreen_listingScreen__TWzQJ')\n",
    "    temp = temp.find('div', class_='listingScreen_container__iD5EV')\n",
    "    temp = temp.find('div', class_='listingScreen_detailsSection__TjbgF')\n",
    "    temp = temp.find('div', class_='listingScreen_specsCard__hvCXt')\n",
    "    temp = temp.find('div', class_='SpecsCard-module_specsCard__FMUhu Card-module_card__TCPyF')\n",
    "    temp = temp.find('div', class_='')\n",
    "    temp = temp.find('div', class_='')\n",
    "    \n",
    "    family = temp.find('div', class_='').text.split()[0]\n",
    "    family = price.replace(',', '')\n",
    "    family = int(price)\n",
    "    \n",
    "    return price"
   ]
  },
  {
   "cell_type": "code",
   "execution_count": null,
   "metadata": {},
   "outputs": [],
   "source": []
  }
 ],
 "metadata": {
  "kernelspec": {
   "display_name": "Python 3.8.8 ('base')",
   "language": "python",
   "name": "python3"
  },
  "language_info": {
   "codemirror_mode": {
    "name": "ipython",
    "version": 3
   },
   "file_extension": ".py",
   "mimetype": "text/x-python",
   "name": "python",
   "nbconvert_exporter": "python",
   "pygments_lexer": "ipython3",
   "version": "3.8.8"
  },
  "orig_nbformat": 4,
  "vscode": {
   "interpreter": {
    "hash": "f377678b927e69392be3d32c4a144c48b4fcf75b53b3b6aab14c8f5b0aeaa57a"
   }
  }
 },
 "nbformat": 4,
 "nbformat_minor": 2
}
