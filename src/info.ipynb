{
 "cells": [
  {
   "cell_type": "code",
   "execution_count": 2,
   "metadata": {},
   "outputs": [],
   "source": [
    "import pandas as pd\n"
   ]
  },
  {
   "cell_type": "code",
   "execution_count": 4,
   "metadata": {},
   "outputs": [],
   "source": [
    "df = pd.read_csv('../data/2-8-2022,12:9.csv')"
   ]
  },
  {
   "cell_type": "code",
   "execution_count": 9,
   "metadata": {},
   "outputs": [
    {
     "data": {
      "text/plain": [
       "Index(['user_id', 'id', 'uri', 'title', 'price', 'content', 'imgs', 'refresh',\n",
       "       'category', 'beds', 'livings', 'wc', 'area', 'type', 'street_width',\n",
       "       'age', 'last_update', 'street_direction', 'ketchen', 'ac', 'furnished',\n",
       "       'location', 'path', 'user', 'native', 'rent_period', 'city', 'district',\n",
       "       'width', 'length', 'advertiser_type', 'create_time', '__typename'],\n",
       "      dtype='object')"
      ]
     },
     "execution_count": 9,
     "metadata": {},
     "output_type": "execute_result"
    }
   ],
   "source": [
    "df.columns"
   ]
  },
  {
   "cell_type": "markdown",
   "metadata": {},
   "source": [
    "---------------------"
   ]
  },
  {
   "cell_type": "markdown",
   "metadata": {},
   "source": [
    "there are 33 columns i will descripe them here and more information below \n",
    "price: the price yearly \n",
    "\n",
    " beds: how many bedrooms are there\n",
    "\n",
    "  livings : how many leving room are there\n",
    "\n",
    "wc: no of water closet\n",
    "\n",
    "user_id : each user has his own id \n",
    "\n",
    "id : each post/ad has it own id (this is unique)\n",
    "\n",
    "title : title of the post \n",
    "\n",
    "uri : is compination between the title of the post and the id of the post (this is unique)\n",
    "\n",
    "\n",
    "content : content in the page of each post\n",
    "\n",
    "imgs : list contain the images of each post \n",
    "\n",
    "create_time : the creation of the page \n",
    "\n",
    "\n",
    "refresh : \n",
    "last_update : \n",
    "\n",
    "\n",
    "\n",
    "category : all have the same category (apartment)\n",
    "\n",
    "rent_period :all have the same rent_period (3 meaning yearly)\n",
    "\n",
    "city : all have the same city (riyadh)\n",
    "\n",
    "district : neighborhood name \n",
    "\n",
    "\n",
    "\n",
    "type : \n",
    "\n",
    "\n",
    "\n",
    "street_width : the width of the street \n",
    "\n",
    "\n",
    "\n",
    "street diraction : \n",
    "\n",
    "\n",
    "\n",
    "age : how old is the apartment \n",
    "\n",
    "street_direction : \n",
    "\n",
    "ketchen , ac , furnished : does the apartment contain this facilitys or not \n",
    "\n",
    "location : the lat and mag of the apartment \n",
    "\n",
    "path : indicate how to get to the page from the main page in aqar.sa + id of the post (this is unique)\n",
    "\n",
    "width , length = is the width and the length \n",
    "\n",
    "area = the area of the apartment\n",
    "\n",
    "advertiser_type = what type of dealler \n",
    "\n",
    "__typename  = somthing to do with web scraping \n",
    "\n",
    "native = all nulls \n",
    "\n",
    "user = user info {name  , review , phone 'not always' , if verified  }\n",
    "\n",
    "\n"
   ]
  },
  {
   "cell_type": "markdown",
   "metadata": {},
   "source": [
    "------------"
   ]
  },
  {
   "cell_type": "markdown",
   "metadata": {},
   "source": [
    "i will assume for now that 20-25 will be used columns with (user info) "
   ]
  },
  {
   "cell_type": "markdown",
   "metadata": {},
   "source": [
    "-----\n",
    "more info "
   ]
  },
  {
   "cell_type": "code",
   "execution_count": 10,
   "metadata": {},
   "outputs": [
    {
     "data": {
      "text/plain": [
       "1992649    289\n",
       "901785     171\n",
       "2072661     93\n",
       "1958104     91\n",
       "345254      79\n",
       "          ... \n",
       "1647753      1\n",
       "1826145      1\n",
       "274829       1\n",
       "1903481      1\n",
       "170065       1\n",
       "Name: user_id, Length: 1761, dtype: int64"
      ]
     },
     "execution_count": 10,
     "metadata": {},
     "output_type": "execute_result"
    }
   ],
   "source": [
    "df['user_id'].value_counts() #each user has his own user id "
   ]
  },
  {
   "cell_type": "code",
   "execution_count": 13,
   "metadata": {},
   "outputs": [
    {
     "data": {
      "text/plain": [
       "4355600    1\n",
       "4504971    1\n",
       "4504579    1\n",
       "4177474    1\n",
       "4465579    1\n",
       "          ..\n",
       "4393987    1\n",
       "4317590    1\n",
       "4439708    1\n",
       "4340190    1\n",
       "3761781    1\n",
       "Name: id, Length: 6845, dtype: int64"
      ]
     },
     "execution_count": 13,
     "metadata": {},
     "output_type": "execute_result"
    }
   ],
   "source": [
    "df['id'].value_counts() # each post has only one unique id "
   ]
  },
  {
   "cell_type": "code",
   "execution_count": 16,
   "metadata": {},
   "outputs": [
    {
     "data": {
      "text/plain": [
       "شقة للإيجار في حي الياسمين ، الرياض ، الرياض                          135\n",
       "شقة للإيجار في حي المونسية ، الرياض ، الرياض                           80\n",
       "شقة للإيجار في حي العارض ، الرياض ، الرياض                             72\n",
       "شقة للإيجار في حي النرجس ، الرياض ، الرياض                             57\n",
       "شقة للإيجار في حي الملقا ، الرياض ، الرياض                             46\n",
       "                                                                     ... \n",
       "شقة للإيجار في شارع رحمه الله السندي ، حي حطين ، الرياض ، الرياض        1\n",
       "شقة للإيجار في شارع عبدالله بن سويلم ، حي النهضة ، الرياض ، الرياض      1\n",
       "شقة للإيجار في شارع أبي المظفر الحسن ، حي العارض ، الرياض ، الرياض      1\n",
       "شقة للإيجار في شارع ممر59 ، حي الياسمين ، الرياض ، الرياض               1\n",
       "شقة للإيجار في شارع الخليفة المأمون ، حي بدر ، الرياض ، الرياض          1\n",
       "Name: title, Length: 3215, dtype: int64"
      ]
     },
     "execution_count": 16,
     "metadata": {},
     "output_type": "execute_result"
    }
   ],
   "source": [
    "df['title'].value_counts() # the title of the post some are unique and other are not (this does not mean spam)"
   ]
  },
  {
   "cell_type": "code",
   "execution_count": 18,
   "metadata": {},
   "outputs": [
    {
     "data": {
      "text/plain": [
       "35000     400\n",
       "30000     362\n",
       "25000     329\n",
       "40000     302\n",
       "45000     285\n",
       "         ... \n",
       "8500        1\n",
       "250         1\n",
       "49000       1\n",
       "14500       1\n",
       "300000      1\n",
       "Name: price, Length: 198, dtype: int64"
      ]
     },
     "execution_count": 18,
     "metadata": {},
     "output_type": "execute_result"
    }
   ],
   "source": [
    "df['price'] # this indicate the price of the apartment rented yearly "
   ]
  },
  {
   "cell_type": "code",
   "execution_count": 19,
   "metadata": {},
   "outputs": [
    {
     "data": {
      "text/plain": [
       "0       شقة للايجار 3 غرف وصالة\\n مكونة من :-\\nغرفتين ...\n",
       "1       الان يتوفر لدى الابعاد العقارية \\n\\nشقة في الد...\n",
       "2       يرجى التواصل قبل التوجه /دور ارضي من فيله مدخل...\n",
       "3       شقة للإيجار السنوي مكونة من : \\n\\nغرفتين - صال...\n",
       "4       شقة للإيجار السنوي مكونة من : \\n\\nغرفة - صالة ...\n",
       "                              ...                        \n",
       "6840    شقة غرفة وحمام ومطبخ مكيفات اسبلت ومطبخ راكب ب...\n",
       "6841    شقه للايجار عوايل  بحي الملك فيصل غرفتين وصاله...\n",
       "6842                         شقة 3غرفه مكيف ومطبخ وحمامين\n",
       "6843    شقه للايجار غرفتين ومطبخ وصاله ودوره مياه\\nراك...\n",
       "6844    شقة للايجار \\nسكن افراد \\nالشفاء طريق الخليفة ...\n",
       "Name: content, Length: 6845, dtype: object"
      ]
     },
     "execution_count": 19,
     "metadata": {},
     "output_type": "execute_result"
    }
   ],
   "source": [
    "df['content'] #this indicates the content in post "
   ]
  },
  {
   "cell_type": "code",
   "execution_count": 23,
   "metadata": {},
   "outputs": [
    {
     "data": {
      "text/plain": [
       "0       ['002045406_1654817733482.jpg', '002045403_165...\n",
       "1       ['000640032_1655750145590.jpg', '000640039_165...\n",
       "2       ['552600943_1658370618721.jpg', '552600943_165...\n",
       "3       ['564068180_1657888147117.jpg', '564068180_165...\n",
       "4       ['564068180_1658767888840.jpg', '564068180_165...\n",
       "                              ...                        \n",
       "6840                                                  NaN\n",
       "6841                                                  NaN\n",
       "6842                                                  NaN\n",
       "6843                                                  NaN\n",
       "6844                                                  NaN\n",
       "Name: imgs, Length: 6845, dtype: object"
      ]
     },
     "execution_count": 23,
     "metadata": {},
     "output_type": "execute_result"
    }
   ],
   "source": [
    "df['imgs'] # (list) inside each post indicates the images "
   ]
  },
  {
   "cell_type": "code",
   "execution_count": 14,
   "metadata": {},
   "outputs": [
    {
     "data": {
      "text/plain": [
       "شارع-رافع-بن-سالم-حي-اليرموك-الرياض-الرياض-4355600               1\n",
       "شارع-السليل-حي-الاندلس-الرياض-الرياض-4504971                     1\n",
       "حي-شارع-ثابت-بن-حزم-حي-أم-الحمام-الشرقي-الرياض-الرياض-4504579    1\n",
       "شارع-وادي-البطحاء-حي-الملقا-الرياض-الرياض-4177474                1\n",
       "شارع-قلعة-الفسطاط-حي-اشبيلية-الرياض-الرياض-4465579               1\n",
       "                                                                ..\n",
       "حي-الياسمين-الرياض-الرياض-4393987                                1\n",
       "شارع-الهفوف-حي-اليرموك-الرياض-الرياض-4317590                     1\n",
       "شارع-طريف-حي-النرجس-الرياض-الرياض-4439708                        1\n",
       "شارع-رقم-500-حي-الملقا-الرياض-الرياض-4340190                     1\n",
       "شارع-الخليفة-المأمون-حي-بدر-الرياض-الرياض-3761781                1\n",
       "Name: uri, Length: 6845, dtype: int64"
      ]
     },
     "execution_count": 14,
     "metadata": {},
     "output_type": "execute_result"
    }
   ],
   "source": [
    "df['uri'].value_counts() # this is compintion of the title and the id of the post"
   ]
  },
  {
   "cell_type": "code",
   "execution_count": 24,
   "metadata": {},
   "outputs": [
    {
     "data": {
      "text/plain": [
       "1659438790    34\n",
       "1659188031     7\n",
       "1658519560     4\n",
       "1659219658     3\n",
       "1659219641     3\n",
       "              ..\n",
       "1659084990     1\n",
       "1658772247     1\n",
       "1659437223     1\n",
       "1658941089     1\n",
       "1658993460     1\n",
       "Name: refresh, Length: 6477, dtype: int64"
      ]
     },
     "execution_count": 24,
     "metadata": {},
     "output_type": "execute_result"
    }
   ],
   "source": [
    "df['refresh'].value_counts() # time in milisecond "
   ]
  },
  {
   "cell_type": "code",
   "execution_count": 26,
   "metadata": {},
   "outputs": [
    {
     "data": {
      "text/plain": [
       "1    6845\n",
       "Name: category, dtype: int64"
      ]
     },
     "execution_count": 26,
     "metadata": {},
     "output_type": "execute_result"
    }
   ],
   "source": [
    "df['category'].value_counts() # if 1 that mean it's apartment explained this in {json_data} inside Webscraping file "
   ]
  },
  {
   "cell_type": "code",
   "execution_count": 28,
   "metadata": {},
   "outputs": [
    {
     "data": {
      "text/plain": [
       "3    2893\n",
       "1    1667\n",
       "2    1103\n",
       "4     983\n",
       "5     168\n",
       "6      19\n",
       "7      12\n",
       "Name: beds, dtype: int64"
      ]
     },
     "execution_count": 28,
     "metadata": {},
     "output_type": "execute_result"
    }
   ],
   "source": [
    "df['beds'].value_counts() #number of rooms "
   ]
  },
  {
   "cell_type": "code",
   "execution_count": 31,
   "metadata": {},
   "outputs": [
    {
     "data": {
      "text/plain": [
       "1.0    5576\n",
       "0.0     698\n",
       "2.0     534\n",
       "3.0      32\n",
       "5.0       2\n",
       "4.0       1\n",
       "Name: livings, dtype: int64"
      ]
     },
     "execution_count": 31,
     "metadata": {},
     "output_type": "execute_result"
    }
   ],
   "source": [
    "df['livings'].value_counts() #how many livingroom in the house "
   ]
  },
  {
   "cell_type": "code",
   "execution_count": 32,
   "metadata": {},
   "outputs": [
    {
     "data": {
      "text/plain": [
       "2    2623\n",
       "1    2161\n",
       "3    1606\n",
       "4     361\n",
       "5      94\n",
       "Name: wc, dtype: int64"
      ]
     },
     "execution_count": 32,
     "metadata": {},
     "output_type": "execute_result"
    }
   ],
   "source": [
    "df['wc'].value_counts() #no of water closet"
   ]
  },
  {
   "cell_type": "code",
   "execution_count": 35,
   "metadata": {},
   "outputs": [
    {
     "data": {
      "text/plain": [
       "150.0     791\n",
       "100.0     485\n",
       "200.0     416\n",
       "120.0     398\n",
       "80.0      327\n",
       "         ... \n",
       "209.0       1\n",
       "62.0        1\n",
       "1800.0      1\n",
       "163.0       1\n",
       "456.0       1\n",
       "Name: area, Length: 281, dtype: int64"
      ]
     },
     "execution_count": 35,
     "metadata": {},
     "output_type": "execute_result"
    }
   ],
   "source": [
    "df['area'].value_counts() # the area of the apartment"
   ]
  },
  {
   "cell_type": "code",
   "execution_count": 39,
   "metadata": {},
   "outputs": [
    {
     "data": {
      "text/plain": [
       "0.0    4\n",
       "1.0    4\n",
       "2.0    2\n",
       "3.0    1\n",
       "Name: type, dtype: int64"
      ]
     },
     "execution_count": 39,
     "metadata": {},
     "output_type": "execute_result"
    }
   ],
   "source": [
    "df['type'].value_counts() ## not sure about that "
   ]
  },
  {
   "cell_type": "code",
   "execution_count": 41,
   "metadata": {},
   "outputs": [
    {
     "data": {
      "text/plain": [
       "5.0     1128\n",
       "20.0     916\n",
       "30.0     803\n",
       "15.0     684\n",
       "36.0     395\n",
       "        ... \n",
       "91.0       1\n",
       "75.0       1\n",
       "95.0       1\n",
       "77.0       1\n",
       "82.0       1\n",
       "Name: street_width, Length: 82, dtype: int64"
      ]
     },
     "execution_count": 41,
     "metadata": {},
     "output_type": "execute_result"
    }
   ],
   "source": [
    "df['street_width'].value_counts()  #width of the street "
   ]
  },
  {
   "cell_type": "code",
   "execution_count": 44,
   "metadata": {},
   "outputs": [
    {
     "data": {
      "text/plain": [
       "0.0     2799\n",
       "2.0      568\n",
       "3.0      534\n",
       "4.0      439\n",
       "5.0      428\n",
       "1.0      426\n",
       "6.0      153\n",
       "7.0      145\n",
       "10.0     124\n",
       "8.0      106\n",
       "9.0       78\n",
       "20.0      56\n",
       "15.0      43\n",
       "11.0      30\n",
       "12.0      26\n",
       "16.0      19\n",
       "30.0      15\n",
       "13.0      14\n",
       "25.0      12\n",
       "14.0      12\n",
       "22.0      10\n",
       "17.0      10\n",
       "19.0       9\n",
       "26.0       5\n",
       "21.0       5\n",
       "18.0       5\n",
       "23.0       5\n",
       "24.0       4\n",
       "29.0       4\n",
       "35.0       4\n",
       "36.0       4\n",
       "34.0       3\n",
       "27.0       3\n",
       "28.0       2\n",
       "33.0       1\n",
       "32.0       1\n",
       "Name: age, dtype: int64"
      ]
     },
     "execution_count": 44,
     "metadata": {},
     "output_type": "execute_result"
    }
   ],
   "source": [
    "df['age'].value_counts() # how old is the apartment zero incates that it is new"
   ]
  },
  {
   "cell_type": "code",
   "execution_count": 47,
   "metadata": {},
   "outputs": [
    {
     "data": {
      "text/plain": [
       "1659438790    34\n",
       "1659188031     7\n",
       "1658519560     4\n",
       "1659434490     3\n",
       "1659329005     3\n",
       "              ..\n",
       "1659437223     1\n",
       "1658941089     1\n",
       "1659383924     1\n",
       "1659405762     1\n",
       "1658993460     1\n",
       "Name: last_update, Length: 6462, dtype: int64"
      ]
     },
     "execution_count": 47,
     "metadata": {},
     "output_type": "execute_result"
    }
   ],
   "source": [
    "df['last_update'].value_counts() #this is the last update in the page not sure whats the diffrence between this and refresh yet"
   ]
  },
  {
   "cell_type": "code",
   "execution_count": 48,
   "metadata": {},
   "outputs": [
    {
     "data": {
      "text/plain": [
       "1.0     7\n",
       "0.0     4\n",
       "2.0     3\n",
       "3.0     3\n",
       "5.0     2\n",
       "6.0     1\n",
       "4.0     1\n",
       "10.0    1\n",
       "9.0     1\n",
       "Name: street_direction, dtype: int64"
      ]
     },
     "execution_count": 48,
     "metadata": {},
     "output_type": "execute_result"
    }
   ],
   "source": [
    "df['street_direction'].value_counts() #######"
   ]
  },
  {
   "cell_type": "code",
   "execution_count": 50,
   "metadata": {},
   "outputs": [
    {
     "data": {
      "text/plain": [
       "1.0    5859\n",
       "0.0     967\n",
       "Name: ketchen, dtype: int64"
      ]
     },
     "execution_count": 50,
     "metadata": {},
     "output_type": "execute_result"
    }
   ],
   "source": [
    "df['ketchen'].value_counts() # is there ketchen or not"
   ]
  },
  {
   "cell_type": "code",
   "execution_count": 52,
   "metadata": {},
   "outputs": [
    {
     "data": {
      "text/plain": [
       "1.0    4871\n",
       "0.0    1954\n",
       "Name: ac, dtype: int64"
      ]
     },
     "execution_count": 52,
     "metadata": {},
     "output_type": "execute_result"
    }
   ],
   "source": [
    "df['ac'].value_counts() #does it come with ac or not ac and ketchen in the site come check mark only"
   ]
  },
  {
   "cell_type": "code",
   "execution_count": 54,
   "metadata": {},
   "outputs": [
    {
     "data": {
      "text/plain": [
       "0.0    6251\n",
       "1.0     547\n",
       "Name: furnished, dtype: int64"
      ]
     },
     "execution_count": 54,
     "metadata": {},
     "output_type": "execute_result"
    }
   ],
   "source": [
    "df['furnished'].value_counts() # does come furnished ? "
   ]
  },
  {
   "cell_type": "code",
   "execution_count": 55,
   "metadata": {},
   "outputs": [
    {
     "data": {
      "text/plain": [
       "0       {'lat': 24.79471, 'lng': 46.767166, '__typenam...\n",
       "1       {'lat': 24.756176, 'lng': 46.671421, '__typena...\n",
       "2       {'lat': 24.803932, 'lng': 46.647847, '__typena...\n",
       "3       {'lat': 24.602213, 'lng': 46.743336, '__typena...\n",
       "4       {'lat': 24.670595, 'lng': 46.721943, '__typena...\n",
       "                              ...                        \n",
       "6840    {'lat': 24.827942, 'lng': 46.774376, '__typena...\n",
       "6841    {'lat': 24.761369, 'lng': 46.773043, '__typena...\n",
       "6842    {'lat': 24.540215, 'lng': 46.690202, '__typena...\n",
       "6843    {'lat': 24.792571, 'lng': 46.63099, '__typenam...\n",
       "6844    {'lat': 24.551849, 'lng': 46.71204, '__typenam...\n",
       "Name: location, Length: 6845, dtype: object"
      ]
     },
     "execution_count": 55,
     "metadata": {},
     "output_type": "execute_result"
    }
   ],
   "source": [
    "df['location'] # the location of the apartment"
   ]
  },
  {
   "cell_type": "code",
   "execution_count": 57,
   "metadata": {},
   "outputs": [
    {
     "data": {
      "text/plain": [
       "0       /شقق-للإيجار/الرياض/شرق-الرياض/حي-اليرموك/شارع...\n",
       "1       /شقق-للإيجار/الرياض/شمال-الرياض/حي-المروج/شارع...\n",
       "2       /شقق-للإيجار/الرياض/شمال-الرياض/حي-الصحافة/شار...\n",
       "3       /شقق-للإيجار/الرياض/وسط-الرياض/حي-المنصورة/شار...\n",
       "4       /شقق-للإيجار/الرياض/وسط-الرياض/حي-الضباط/شارع-...\n",
       "                              ...                        \n",
       "6840    /شقق-للإيجار/الرياض/شرق-الرياض/حي-المونسية/حي-...\n",
       "6841    /شقق-للإيجار/الرياض/شرق-الرياض/حي-الملك-فيصل/ش...\n",
       "6842    /شقق-للإيجار/الرياض/جنوب-الرياض/حي-بدر/طريق-اب...\n",
       "6843    /شقق-للإيجار/الرياض/شمال-الرياض/حي-العقيق/طريق...\n",
       "6844    /شقق-للإيجار/الرياض/جنوب-الرياض/حي-بدر/شارع-ال...\n",
       "Name: path, Length: 6845, dtype: object"
      ]
     },
     "execution_count": 57,
     "metadata": {},
     "output_type": "execute_result"
    }
   ],
   "source": [
    "df['path'] #the distintion from the main page in the site"
   ]
  },
  {
   "cell_type": "code",
   "execution_count": 59,
   "metadata": {},
   "outputs": [
    {
     "data": {
      "text/plain": [
       "'/شقق-للإيجار/الرياض/شمال-الرياض/حي-الملقا/شارع-الأمير-يزيد-بن-عبدالله-بن-عبدالرحمن-حي-الملقا-الرياض-الرياض-4574362'"
      ]
     },
     "execution_count": 59,
     "metadata": {},
     "output_type": "execute_result"
    }
   ],
   "source": [
    "df.iloc[32]['path'] # the number in the end is the id of the site"
   ]
  },
  {
   "cell_type": "code",
   "execution_count": 63,
   "metadata": {},
   "outputs": [
    {
     "data": {
      "text/plain": [
       "\"{'review': 4.35, 'img': '550587483_1653758949354.jpg', 'name': 'مجموعة هيبة الزهراء للعقارات', 'phone': 0, 'iam_verified': True, 'rega_id': None, '__typename': 'ListingUser'}\""
      ]
     },
     "execution_count": 63,
     "metadata": {},
     "output_type": "execute_result"
    }
   ],
   "source": [
    "df['user'][0] # name and information about the dealer "
   ]
  },
  {
   "cell_type": "code",
   "execution_count": 65,
   "metadata": {},
   "outputs": [
    {
     "data": {
      "text/plain": [
       "0      NaN\n",
       "1      NaN\n",
       "2      NaN\n",
       "3      NaN\n",
       "4      NaN\n",
       "        ..\n",
       "6840   NaN\n",
       "6841   NaN\n",
       "6842   NaN\n",
       "6843   NaN\n",
       "6844   NaN\n",
       "Name: native, Length: 6845, dtype: float64"
      ]
     },
     "execution_count": 65,
     "metadata": {},
     "output_type": "execute_result"
    }
   ],
   "source": [
    "df['native'] # does not mean anything accully i belive they delete it "
   ]
  },
  {
   "cell_type": "code",
   "execution_count": 68,
   "metadata": {},
   "outputs": [
    {
     "data": {
      "text/plain": [
       "3    6845\n",
       "Name: rent_period, dtype: int64"
      ]
     },
     "execution_count": 68,
     "metadata": {},
     "output_type": "execute_result"
    }
   ],
   "source": [
    "df['rent_period'].value_counts() # three mean it is rent it yearly this is what i scrapped "
   ]
  },
  {
   "cell_type": "code",
   "execution_count": 71,
   "metadata": {},
   "outputs": [
    {
     "data": {
      "text/plain": [
       "الرياض    6845\n",
       "Name: city, dtype: int64"
      ]
     },
     "execution_count": 71,
     "metadata": {},
     "output_type": "execute_result"
    }
   ],
   "source": [
    "df['city'].value_counts() # i scrapped only Riaydh"
   ]
  },
  {
   "cell_type": "code",
   "execution_count": 74,
   "metadata": {},
   "outputs": [
    {
     "data": {
      "text/plain": [
       "حي النرجس      779\n",
       "حي العارض      689\n",
       "حي الملقا      575\n",
       "حي اليرموك     402\n",
       "حي الياسمين    339\n",
       "              ... \n",
       "حي جبرة          1\n",
       "حي الفيصلية      1\n",
       "حي الغنامية      1\n",
       "حي الصناعية      1\n",
       "حي الفوطة        1\n",
       "Name: district, Length: 133, dtype: int64"
      ]
     },
     "execution_count": 74,
     "metadata": {},
     "output_type": "execute_result"
    }
   ],
   "source": [
    "df['district'].value_counts() # the neighbourhood of the apartment"
   ]
  },
  {
   "cell_type": "code",
   "execution_count": 77,
   "metadata": {},
   "outputs": [
    {
     "data": {
      "text/plain": [
       "10.00     1018\n",
       "12.00      547\n",
       "1.00       425\n",
       "15.00      399\n",
       "20.00      333\n",
       "          ... \n",
       "98.00        1\n",
       "104.00       1\n",
       "62.00        1\n",
       "10.79        1\n",
       "31.00        1\n",
       "Name: width, Length: 110, dtype: int64"
      ]
     },
     "execution_count": 77,
     "metadata": {},
     "output_type": "execute_result"
    }
   ],
   "source": [
    "df['width'].value_counts() # the width (lots of na and i think that the area is enough)"
   ]
  },
  {
   "cell_type": "code",
   "execution_count": 79,
   "metadata": {},
   "outputs": [
    {
     "data": {
      "text/plain": [
       "0        NaN\n",
       "1       10.0\n",
       "2        NaN\n",
       "3        NaN\n",
       "4        NaN\n",
       "        ... \n",
       "6840     NaN\n",
       "6841     NaN\n",
       "6842     NaN\n",
       "6843    12.0\n",
       "6844    12.0\n",
       "Name: length, Length: 6845, dtype: float64"
      ]
     },
     "execution_count": 79,
     "metadata": {},
     "output_type": "execute_result"
    }
   ],
   "source": [
    "df['length'] # same"
   ]
  },
  {
   "cell_type": "code",
   "execution_count": 82,
   "metadata": {},
   "outputs": [
    {
     "data": {
      "text/plain": [
       "exclusive_marketer    2565\n",
       "normal_marketer       1735\n",
       "owner                 1660\n",
       "agent                  665\n",
       "Name: advertiser_type, dtype: int64"
      ]
     },
     "execution_count": 82,
     "metadata": {},
     "output_type": "execute_result"
    }
   ],
   "source": [
    "df['advertiser_type'].value_counts() #type of the dealer"
   ]
  },
  {
   "cell_type": "code",
   "execution_count": 85,
   "metadata": {},
   "outputs": [
    {
     "data": {
      "text/plain": [
       "1655314269    2\n",
       "1658581807    2\n",
       "1658694358    2\n",
       "1659275992    2\n",
       "1658772247    2\n",
       "             ..\n",
       "1652698028    1\n",
       "1655573695    1\n",
       "1653231214    1\n",
       "1657723056    1\n",
       "1638261134    1\n",
       "Name: create_time, Length: 6839, dtype: int64"
      ]
     },
     "execution_count": 85,
     "metadata": {},
     "output_type": "execute_result"
    }
   ],
   "source": [
    "df['create_time'].value_counts() # the creation time of the post we see that there is a diffrence between it and refresh & last_update "
   ]
  },
  {
   "cell_type": "code",
   "execution_count": 88,
   "metadata": {},
   "outputs": [
    {
     "data": {
      "text/plain": [
       "ElasticWebListing    6845\n",
       "Name: __typename, dtype: int64"
      ]
     },
     "execution_count": 88,
     "metadata": {},
     "output_type": "execute_result"
    }
   ],
   "source": [
    "df['__typename'].value_counts() # ithink something todo with the webscraping"
   ]
  },
  {
   "cell_type": "code",
   "execution_count": 99,
   "metadata": {},
   "outputs": [
    {
     "data": {
      "text/plain": [
       "Unnamed: 0                                                          3\n",
       "user_id                                                       1352428\n",
       "id                                                            4519772\n",
       "uri                 شارع-الامير-سعود-بن-عبدالرحمن-الثاني-حي-المنصو...\n",
       "title               شقة للإيجار في شارع الامير سعود بن عبدالرحمن ا...\n",
       "price                                                           17500\n",
       "content             شقة للإيجار السنوي مكونة من : \\n\\nغرفتين - صال...\n",
       "imgs                ['564068180_1657888147117.jpg', '564068180_165...\n",
       "refresh                                                    1659081354\n",
       "category                                                            1\n",
       "beds                                                                2\n",
       "livings                                                           1.0\n",
       "wc                                                                  2\n",
       "area                                                              NaN\n",
       "type                                                              NaN\n",
       "street_width                                                      NaN\n",
       "age                                                               NaN\n",
       "last_update                                                1659081354\n",
       "street_direction                                                  NaN\n",
       "ketchen                                                           0.0\n",
       "ac                                                                0.0\n",
       "furnished                                                         0.0\n",
       "location            {'lat': 24.602213, 'lng': 46.743336, '__typena...\n",
       "path                /شقق-للإيجار/الرياض/وسط-الرياض/حي-المنصورة/شار...\n",
       "user                {'review': 4.82, 'img': None, 'name': 'مكتب عق...\n",
       "native                                                            NaN\n",
       "rent_period                                                         3\n",
       "city                                                           الرياض\n",
       "district                                                  حي المنصورة\n",
       "width                                                             NaN\n",
       "length                                                            NaN\n",
       "advertiser_type                                    exclusive_marketer\n",
       "create_time                                                1657888426\n",
       "__typename                                          ElasticWebListing\n",
       "Name: 3, dtype: object"
      ]
     },
     "execution_count": 99,
     "metadata": {},
     "output_type": "execute_result"
    }
   ],
   "source": []
  }
 ],
 "metadata": {
  "kernelspec": {
   "display_name": "Python 3.9.12 ('base')",
   "language": "python",
   "name": "python3"
  },
  "language_info": {
   "codemirror_mode": {
    "name": "ipython",
    "version": 3
   },
   "file_extension": ".py",
   "mimetype": "text/x-python",
   "name": "python",
   "nbconvert_exporter": "python",
   "pygments_lexer": "ipython3",
   "version": "3.9.12"
  },
  "orig_nbformat": 4,
  "vscode": {
   "interpreter": {
    "hash": "d4d1e4263499bec80672ea0156c357c1ee493ec2b1c70f0acce89fc37c4a6abe"
   }
  }
 },
 "nbformat": 4,
 "nbformat_minor": 2
}
