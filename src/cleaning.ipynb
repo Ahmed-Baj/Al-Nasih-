{
 "cells": [
  {
   "cell_type": "code",
   "execution_count": null,
   "metadata": {},
   "outputs": [],
   "source": [
    "#!pip install js2py\n"
   ]
  },
  {
   "cell_type": "code",
   "execution_count": 184,
   "metadata": {},
   "outputs": [],
   "source": [
    "import pandas as pd\n",
    "import numpy as np\n",
    "import math\n",
    "from sklearn.model_selection import train_test_split\n",
    "from sklearn.compose import TransformedTargetRegressor\n",
    "from sklearn.compose import ColumnTransformer\n",
    "from sklearn.compose import make_column_selector as selector\n",
    "from sklearn.preprocessing import PowerTransformer\n",
    "from sklearn.preprocessing import StandardScaler\n",
    "from sklearn.preprocessing import OneHotEncoder\n",
    "from sklearn.preprocessing import LabelEncoder\n",
    "from sklearn.impute import SimpleImputer\n",
    "from sklearn.impute import KNNImputer\n",
    "from sklearn.feature_selection import VarianceThreshold\n",
    "from sklearn.decomposition import PCA\n",
    "import datetime\n",
    "from datetime import timedelta\n",
    "import ast\n",
    "import json    \n",
    "import missingno as msno"
   ]
  },
  {
   "cell_type": "code",
   "execution_count": 104,
   "metadata": {},
   "outputs": [],
   "source": [
    "\n",
    "\n",
    "path = '../data/2-8-2022,12:9.csv'\n",
    "df = pd.read_csv(path)"
   ]
  },
  {
   "cell_type": "code",
   "execution_count": 9,
   "metadata": {},
   "outputs": [
    {
     "data": {
      "text/plain": [
       "user_id                                                        600583\n",
       "id                                                            4564662\n",
       "uri                 شارع-أحمد-بن-خيرة-حي-الرمال-الرياض-الرياض-4564662\n",
       "title               شقة للإيجار في شارع أحمد بن خيرة ، حي الرمال ،...\n",
       "price                                                           24000\n",
       "content             شقة في السطح شبه جديدة  للايجار  لا يوجد شهري ...\n",
       "imgs                ['006005837_1658937730570.jpg', '006005836_165...\n",
       "refresh                                                    1658937873\n",
       "category                                                            1\n",
       "beds                                                                2\n",
       "livings                                                           1.0\n",
       "wc                                                                  2\n",
       "area                                                            110.0\n",
       "type                                                              NaN\n",
       "street_width                                                      5.0\n",
       "age                                                               0.0\n",
       "last_update                                                1658998795\n",
       "street_direction                                                  NaN\n",
       "ketchen                                                           1.0\n",
       "ac                                                                0.0\n",
       "furnished                                                         0.0\n",
       "location            {'lat': 24.928431, 'lng': 46.810268, '__typena...\n",
       "path                /شقق-للإيجار/الرياض/شرق-الرياض/حي-الرمال/شارع-...\n",
       "user                {'review': None, 'img': None, 'name': 'الحماد'...\n",
       "native                                                            NaN\n",
       "rent_period                                                         3\n",
       "city                                                           الرياض\n",
       "district                                                    حي الرمال\n",
       "width                                                            14.0\n",
       "length                                                            7.0\n",
       "advertiser_type                                                 owner\n",
       "create_time                                                1658937872\n",
       "__typename                                          ElasticWebListing\n",
       "Name: 32, dtype: object"
      ]
     },
     "execution_count": 9,
     "metadata": {},
     "output_type": "execute_result"
    }
   ],
   "source": [
    "df.iloc[32]"
   ]
  },
  {
   "cell_type": "code",
   "execution_count": null,
   "metadata": {},
   "outputs": [],
   "source": []
  },
  {
   "cell_type": "code",
   "execution_count": 199,
   "metadata": {},
   "outputs": [],
   "source": [
    "def toDate(sec):\n",
    "    try:\n",
    "        a = datetime.datetime.fromtimestamp(sec)\n",
    "        a = str(a) \n",
    "        a = a.split(\" \")\n",
    "        return a \n",
    "    except:\n",
    "        return sec"
   ]
  },
  {
   "cell_type": "code",
   "execution_count": 92,
   "metadata": {},
   "outputs": [
    {
     "data": {
      "text/plain": [
       "'2022-07-25'"
      ]
     },
     "execution_count": 92,
     "metadata": {},
     "output_type": "execute_result"
    }
   ],
   "source": []
  },
  {
   "cell_type": "code",
   "execution_count": 106,
   "metadata": {},
   "outputs": [
    {
     "name": "stderr",
     "output_type": "stream",
     "text": [
      "/tmp/ipykernel_22498/2196997981.py:4: SettingWithCopyWarning: \n",
      "A value is trying to be set on a copy of a slice from a DataFrame\n",
      "\n",
      "See the caveats in the documentation: https://pandas.pydata.org/pandas-docs/stable/user_guide/indexing.html#returning-a-view-versus-a-copy\n",
      "  df['create_time'][i] = toDate(df['create_time'][i])\n"
     ]
    }
   ],
   "source": [
    "# df['create_time'] = df['column name'].replace(['1st old value','2nd old  value',...],['1st new value','2nd new value',...])\n",
    "i = 0 \n",
    "while i < len(df['create_time']):\n",
    "    df['create_time'][i] = toDate(df['create_time'][i])\n",
    "    i+=1"
   ]
  },
  {
   "cell_type": "code",
   "execution_count": 112,
   "metadata": {},
   "outputs": [
    {
     "name": "stderr",
     "output_type": "stream",
     "text": [
      "/tmp/ipykernel_22498/1571225724.py:3: SettingWithCopyWarning: \n",
      "A value is trying to be set on a copy of a slice from a DataFrame\n",
      "\n",
      "See the caveats in the documentation: https://pandas.pydata.org/pandas-docs/stable/user_guide/indexing.html#returning-a-view-versus-a-copy\n",
      "  df['refresh'][i] = toDate(df['refresh'][i])\n"
     ]
    }
   ],
   "source": [
    "i = 0 \n",
    "while i < len(df['refresh']):\n",
    "    df['refresh'][i] = toDate(df['refresh'][i])\n",
    "    i+=1"
   ]
  },
  {
   "cell_type": "code",
   "execution_count": 110,
   "metadata": {},
   "outputs": [
    {
     "name": "stderr",
     "output_type": "stream",
     "text": [
      "/tmp/ipykernel_22498/1382014819.py:3: SettingWithCopyWarning: \n",
      "A value is trying to be set on a copy of a slice from a DataFrame\n",
      "\n",
      "See the caveats in the documentation: https://pandas.pydata.org/pandas-docs/stable/user_guide/indexing.html#returning-a-view-versus-a-copy\n",
      "  df['last_update'][i] = toDate(df['last_update'][i])\n"
     ]
    }
   ],
   "source": [
    "i = 0 \n",
    "while i < len(df['last_update']):\n",
    "    df['last_update'][i] = toDate(df['last_update'][i])\n",
    "    i+=1"
   ]
  },
  {
   "cell_type": "code",
   "execution_count": 211,
   "metadata": {},
   "outputs": [
    {
     "data": {
      "text/plain": [
       "'مؤسسة نبل العقارية'"
      ]
     },
     "execution_count": 211,
     "metadata": {},
     "output_type": "execute_result"
    }
   ],
   "source": [
    "a = df['user'][242]\n",
    "res = ast.literal_eval(a)\n",
    "res.get('name')"
   ]
  },
  {
   "cell_type": "code",
   "execution_count": 161,
   "metadata": {},
   "outputs": [],
   "source": [
    "df['review'] = 0\n",
    "df['profileImg'] = 0\n",
    "df['UserName'] = 0\n",
    "df['phone'] = 0\n",
    "df['iam_verified'] = True\n",
    "df['rega_id'] = 0"
   ]
  },
  {
   "cell_type": "code",
   "execution_count": 164,
   "metadata": {},
   "outputs": [
    {
     "name": "stderr",
     "output_type": "stream",
     "text": [
      "/tmp/ipykernel_22498/3027619202.py:6: SettingWithCopyWarning: \n",
      "A value is trying to be set on a copy of a slice from a DataFrame\n",
      "\n",
      "See the caveats in the documentation: https://pandas.pydata.org/pandas-docs/stable/user_guide/indexing.html#returning-a-view-versus-a-copy\n",
      "  df['review'][i] = res.get('review')\n"
     ]
    }
   ],
   "source": [
    "i = 0 \n",
    "while i < len(df['user']):\n",
    "    a = df['user'][i]\n",
    "    res = ast.literal_eval(a)\n",
    "    \n",
    "    df['review'][i] = res.get('review')\n",
    "    i+=1"
   ]
  },
  {
   "cell_type": "code",
   "execution_count": 154,
   "metadata": {},
   "outputs": [
    {
     "data": {
      "text/plain": [
       "398"
      ]
     },
     "execution_count": 154,
     "metadata": {},
     "output_type": "execute_result"
    }
   ],
   "source": [
    "df[\"review\"].isna().sum()"
   ]
  },
  {
   "cell_type": "code",
   "execution_count": 168,
   "metadata": {},
   "outputs": [],
   "source": [
    "i = 0 \n",
    "while i < len(df['user']):\n",
    "    a = df['user'][i]\n",
    "    res = ast.literal_eval(a)\n",
    "    \n",
    "    df['review'][i] = res.get('review')\n",
    "    i+=1"
   ]
  },
  {
   "cell_type": "code",
   "execution_count": 203,
   "metadata": {},
   "outputs": [
    {
     "name": "stderr",
     "output_type": "stream",
     "text": [
      "/tmp/ipykernel_22498/2896461739.py:6: SettingWithCopyWarning: \n",
      "A value is trying to be set on a copy of a slice from a DataFrame\n",
      "\n",
      "See the caveats in the documentation: https://pandas.pydata.org/pandas-docs/stable/user_guide/indexing.html#returning-a-view-versus-a-copy\n",
      "  df['profileImg'][i] = res.get('img')\n"
     ]
    }
   ],
   "source": [
    "i = 0 \n",
    "while i < len(df['user']):\n",
    "    a = df['user'][i]\n",
    "    res = ast.literal_eval(a)\n",
    "    \n",
    "    df['profileImg'][i] = res.get('img')\n",
    "    i+=1"
   ]
  },
  {
   "cell_type": "code",
   "execution_count": 212,
   "metadata": {},
   "outputs": [
    {
     "name": "stderr",
     "output_type": "stream",
     "text": [
      "/tmp/ipykernel_22498/1460742994.py:6: SettingWithCopyWarning: \n",
      "A value is trying to be set on a copy of a slice from a DataFrame\n",
      "\n",
      "See the caveats in the documentation: https://pandas.pydata.org/pandas-docs/stable/user_guide/indexing.html#returning-a-view-versus-a-copy\n",
      "  df['UserName'][i] = res.get('name')\n"
     ]
    }
   ],
   "source": [
    "i = 0 \n",
    "while i < len(df['user']):\n",
    "    a = df['user'][i]\n",
    "    res = ast.literal_eval(a)\n",
    "    \n",
    "    df['UserName'][i] = res.get('name')\n",
    "    i+=1"
   ]
  },
  {
   "cell_type": "code",
   "execution_count": 165,
   "metadata": {},
   "outputs": [
    {
     "name": "stderr",
     "output_type": "stream",
     "text": [
      "/tmp/ipykernel_22498/3738396795.py:6: SettingWithCopyWarning: \n",
      "A value is trying to be set on a copy of a slice from a DataFrame\n",
      "\n",
      "See the caveats in the documentation: https://pandas.pydata.org/pandas-docs/stable/user_guide/indexing.html#returning-a-view-versus-a-copy\n",
      "  df['iam_verified'][i] = res.get('iam_verified')\n"
     ]
    }
   ],
   "source": [
    "i = 0 \n",
    "while i < len(df['user']):\n",
    "    a = df['user'][i]\n",
    "    res = ast.literal_eval(a)\n",
    "    \n",
    "    df['iam_verified'][i] = res.get('iam_verified')\n",
    "    i+=1"
   ]
  },
  {
   "cell_type": "code",
   "execution_count": 169,
   "metadata": {},
   "outputs": [
    {
     "name": "stderr",
     "output_type": "stream",
     "text": [
      "/tmp/ipykernel_22498/184754266.py:6: SettingWithCopyWarning: \n",
      "A value is trying to be set on a copy of a slice from a DataFrame\n",
      "\n",
      "See the caveats in the documentation: https://pandas.pydata.org/pandas-docs/stable/user_guide/indexing.html#returning-a-view-versus-a-copy\n",
      "  df['phone'][i] = res.get('phone')\n"
     ]
    }
   ],
   "source": [
    "i = 0 \n",
    "while i < len(df['user']):\n",
    "    a = df['user'][i]\n",
    "    res = ast.literal_eval(a)\n",
    "    \n",
    "    df['phone'][i] = res.get('phone')\n",
    "    i+=1"
   ]
  },
  {
   "cell_type": "code",
   "execution_count": 175,
   "metadata": {},
   "outputs": [
    {
     "data": {
      "text/plain": [
       "Index(['user_id', 'id', 'uri', 'title', 'price', 'content', 'imgs', 'refresh',\n",
       "       'category', 'beds', 'livings', 'wc', 'area', 'type', 'street_width',\n",
       "       'age', 'last_update', 'street_direction', 'ketchen', 'ac', 'furnished',\n",
       "       'location', 'path', 'user', 'native', 'rent_period', 'city', 'district',\n",
       "       'width', 'length', 'advertiser_type', 'create_time', '__typename',\n",
       "       'review', 'profileImg', 'UserName', 'phone', 'iam_verified', 'rega_id'],\n",
       "      dtype='object')"
      ]
     },
     "execution_count": 175,
     "metadata": {},
     "output_type": "execute_result"
    }
   ],
   "source": [
    "df.columns"
   ]
  },
  {
   "cell_type": "code",
   "execution_count": 181,
   "metadata": {},
   "outputs": [
    {
     "data": {
      "text/plain": [
       "5.00    591\n",
       "4.44    312\n",
       "4.37    215\n",
       "4.26    189\n",
       "4.35    184\n",
       "       ... \n",
       "3.62      1\n",
       "3.25      1\n",
       "3.27      1\n",
       "3.35      1\n",
       "3.29      1\n",
       "Name: review, Length: 158, dtype: int64"
      ]
     },
     "execution_count": 181,
     "metadata": {},
     "output_type": "execute_result"
    }
   ],
   "source": [
    "df['review'].value_counts()"
   ]
  },
  {
   "cell_type": "code",
   "execution_count": 176,
   "metadata": {},
   "outputs": [
    {
     "data": {
      "text/plain": [
       "0    6823\n",
       "Name: phone, dtype: int64"
      ]
     },
     "execution_count": 176,
     "metadata": {},
     "output_type": "execute_result"
    }
   ],
   "source": [
    "df['phone'].value_counts()"
   ]
  },
  {
   "cell_type": "code",
   "execution_count": 213,
   "metadata": {},
   "outputs": [
    {
     "data": {
      "text/plain": [
       "<AxesSubplot:>"
      ]
     },
     "execution_count": 213,
     "metadata": {},
     "output_type": "execute_result"
    },
    {
     "data": {
      "image/png": "[encoded data removed]",
      "text/plain": [
       "<Figure size 1800x720 with 2 Axes>"
      ]
     },
     "metadata": {
      "needs_background": "light"
     },
     "output_type": "display_data"
    }
   ],
   "source": [
    "msno.matrix(df, labels=True, filter=\"bottom\", sort=\"ascending\", n=50)"
   ]
  },
  {
   "cell_type": "code",
   "execution_count": 206,
   "metadata": {},
   "outputs": [
    {
     "data": {
      "text/plain": [
       "(6823, 30)"
      ]
     },
     "execution_count": 206,
     "metadata": {},
     "output_type": "execute_result"
    }
   ],
   "source": [
    "df.shape #number of columns"
   ]
  },
  {
   "cell_type": "code",
   "execution_count": 214,
   "metadata": {},
   "outputs": [
    {
     "data": {
      "text/plain": [
       "user_id                                                      1992649\n",
       "id                                                           4517438\n",
       "title              شقة للإيجار في شارع الحدائق ، حي الملقا ، الري...\n",
       "price                                                          21000\n",
       "content            يوجد شقه للايجار بحي الملقا عزاب \\nمكونه من \\n...\n",
       "imgs               ['022284157_1658074886266.jpg', '022284152_165...\n",
       "refresh                                                   2022-08-02\n",
       "beds                                                               1\n",
       "livings                                                          0.0\n",
       "wc                                                                 1\n",
       "area                                                            60.0\n",
       "street_width                                                    30.0\n",
       "age                                                              2.0\n",
       "last_update                                               2022-08-02\n",
       "ketchen                                                          0.0\n",
       "ac                                                               1.0\n",
       "furnished                                                        0.0\n",
       "location           {'lat': 24.797161, 'lng': 46.627697, '__typena...\n",
       "path               /شقق-للإيجار/الرياض/شمال-الرياض/حي-الملقا/شارع...\n",
       "user               {'review': 4.44, 'img': '500871265_16588861655...\n",
       "district                                                   حي الملقا\n",
       "width                                                            NaN\n",
       "length                                                           NaN\n",
       "advertiser_type                                   exclusive_marketer\n",
       "create_time                                               2022-07-14\n",
       "review                                                          4.44\n",
       "profileImg                               500871265_1658886165568.jpg\n",
       "UserName                                         ‏مؤسسة الحلم العربي\n",
       "iam_verified                                                    True\n",
       "rega_id                                                             \n",
       "Name: 0, dtype: object"
      ]
     },
     "execution_count": 214,
     "metadata": {},
     "output_type": "execute_result"
    }
   ],
   "source": [
    "df.iloc[0]"
   ]
  },
  {
   "cell_type": "code",
   "execution_count": 224,
   "metadata": {},
   "outputs": [
    {
     "data": {
      "text/plain": [
       "0.49038881607688944"
      ]
     },
     "execution_count": 224,
     "metadata": {},
     "output_type": "execute_result"
    }
   ],
   "source": [
    "df['length'].isna().sum()/df['length'].count()"
   ]
  },
  {
   "cell_type": "code",
   "execution_count": null,
   "metadata": {},
   "outputs": [],
   "source": [
    "df.drop('category' , inplace=True , axis =1) # all has same value \n",
    "df.drop('street_direction' , inplace=True , axis =1) # lots of na \n",
    "df.drop('native' , inplace=True , axis =1) #all are na\n",
    "df.drop('rent_period' , inplace=True , axis =1) # all elemnets has same value \n",
    "df.drop('city' , inplace=True , axis =1) # all elemnets has same value\n",
    "df.drop('__typename' , inplace=True , axis =1) #all are na\n",
    "df.drop('phone' , inplace=True , axis =1) # all elemnets has same value\n",
    "df.drop('type' , inplace=True , axis =1) # lots of na \n",
    "df.drop('uri' , inplace=True , axis =1) # this doesn't add anything title+id \n",
    "## length and width has lots of na 50% of the values but i am still not sure also there is the area whitch by itself make scense  "
   ]
  },
  {
   "cell_type": "code",
   "execution_count": 215,
   "metadata": {},
   "outputs": [
    {
     "data": {
      "text/plain": [
       "(6823, 30)"
      ]
     },
     "execution_count": 215,
     "metadata": {},
     "output_type": "execute_result"
    }
   ],
   "source": [
    "df.shape"
   ]
  },
  {
   "cell_type": "code",
   "execution_count": 225,
   "metadata": {},
   "outputs": [],
   "source": [
    "df.to_csv(path)"
   ]
  }
 ],
 "metadata": {
  "kernelspec": {
   "display_name": "Python 3.8.8 ('base')",
   "language": "python",
   "name": "python3"
  },
  "language_info": {
   "codemirror_mode": {
    "name": "ipython",
    "version": 3
   },
   "file_extension": ".py",
   "mimetype": "text/x-python",
   "name": "python",
   "nbconvert_exporter": "python",
   "pygments_lexer": "ipython3",
   "version": "3.8.8"
  },
  "orig_nbformat": 4,
  "vscode": {
   "interpreter": {
    "hash": "f377678b927e69392be3d32c4a144c48b4fcf75b53b3b6aab14c8f5b0aeaa57a"
   }
  }
 },
 "nbformat": 4,
 "nbformat_minor": 2
}
