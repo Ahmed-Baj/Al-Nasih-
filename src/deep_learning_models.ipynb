{
 "cells": [
  {
   "cell_type": "code",
   "execution_count": 33,
   "metadata": {},
   "outputs": [],
   "source": [
    "import pandas as pd\n",
    "import numpy as np\n",
    "import tensorflow as tf\n",
    "from tensorflow import keras\n",
    "from tensorflow.keras import layers\n"
   ]
  },
  {
   "cell_type": "code",
   "execution_count": 34,
   "metadata": {},
   "outputs": [],
   "source": [
    "# preprocessing \n",
    "from sklearn.preprocessing import LabelEncoder, StandardScaler\n",
    "from sklearn.preprocessing import PowerTransformer\n",
    "from sklearn.preprocessing import OneHotEncoder\n",
    "from feature_engine.encoding import RareLabelEncoder\n",
    "from sklearn.compose import TransformedTargetRegressor\n",
    "from sklearn.compose import ColumnTransformer\n",
    "from sklearn.compose import make_column_selector as selector\n",
    "from category_encoders.ordinal import OrdinalEncoder\n",
    "from sklearn.feature_selection import VarianceThreshold\n",
    "from sklearn.linear_model import LinearRegression\n",
    "from sklearn.decomposition import PCA\n",
    "from sklearn import cross_decomposition\n",
    "from sklearn.linear_model import Ridge, Lasso, ElasticNet\n",
    "from sklearn.impute import KNNImputer\n",
    "\n",
    "# modeling\n",
    "from sklearn.model_selection import train_test_split, KFold, RepeatedKFold, cross_val_score\n",
    "from sklearn.pipeline import Pipeline\n",
    "from sklearn.model_selection import GridSearchCV\n",
    "from sklearn.model_selection import KFold\n",
    "import os"
   ]
  },
  {
   "cell_type": "code",
   "execution_count": 35,
   "metadata": {},
   "outputs": [],
   "source": [
    "# Load data\n",
    "apartments = pd.read_csv(\"../data/apartments_sale_riyadh_cleaned.csv\")\n",
    "\n",
    "# Drop district names in Arabic and post ID\n",
    "apartments.drop(columns=[\"district\", 'id'], inplace=True)"
   ]
  },
  {
   "cell_type": "code",
   "execution_count": 44,
   "metadata": {},
   "outputs": [],
   "source": [
    "# Train-test split\n",
    "train, test = train_test_split(apartments, test_size=0.2, random_state=123)\n",
    "X_train = train.drop(columns=\"price\")\n",
    "y_train = train['price']\n",
    "X_test = test.drop(columns='price')\n",
    "y_test = test['price']\n",
    "\n",
    "# Ensure all null values have the same encoding\n",
    "X_train = X_train.fillna(value=np.nan)\n",
    "X_test = X_test.fillna(value=np.nan)"
   ]
  },
  {
   "cell_type": "code",
   "execution_count": 45,
   "metadata": {},
   "outputs": [],
   "source": [
    "# Data preprocessing\n",
    "\n",
    "# Categorical feature engineering\n",
    "dummy_encoder = OneHotEncoder(handle_unknown='ignore')\n",
    "\n",
    "# Impute missing values\n",
    "knn_imp = KNNImputer(n_neighbors=5, missing_values=np.nan)\n",
    "\n",
    "preprocessor_minimal = ColumnTransformer(\n",
    "  remainder=\"passthrough\",\n",
    "  transformers=[\n",
    "    (\"dummy_encod\", dummy_encoder, selector(dtype_include=\"object\")),\n",
    "    (\"knn_impute\", knn_imp, selector(dtype_include=\"number\")),\n",
    "  ])"
   ]
  },
  {
   "cell_type": "code",
   "execution_count": 46,
   "metadata": {},
   "outputs": [],
   "source": [
    "# Conduct preprocessing on train and test\n",
    "\n",
    "X_train_preprocessed = preprocessor_minimal.fit_transform(X_train)\n",
    "X_test_preprocessed = preprocessor_minimal.transform(X_test)"
   ]
  },
  {
   "cell_type": "code",
   "execution_count": 47,
   "metadata": {},
   "outputs": [
    {
     "name": "stdout",
     "output_type": "stream",
     "text": [
      "Epoch 1/10\n",
      "183/183 [==============================] - 1s 1ms/step - loss: 439618961408.0000 - mean_squared_error: 439618961408.0000\n",
      "Epoch 2/10\n",
      "183/183 [==============================] - 0s 1ms/step - loss: 406580396032.0000 - mean_squared_error: 406580396032.0000\n",
      "Epoch 3/10\n",
      "183/183 [==============================] - 0s 1ms/step - loss: 384759693312.0000 - mean_squared_error: 384759693312.0000\n",
      "Epoch 4/10\n",
      "183/183 [==============================] - 0s 1ms/step - loss: 326536691712.0000 - mean_squared_error: 326536691712.0000\n",
      "Epoch 5/10\n",
      "183/183 [==============================] - 0s 1ms/step - loss: 236280102912.0000 - mean_squared_error: 236280102912.0000\n",
      "Epoch 6/10\n",
      "183/183 [==============================] - 0s 1ms/step - loss: 198407061504.0000 - mean_squared_error: 198407061504.0000\n",
      "Epoch 7/10\n",
      "183/183 [==============================] - 0s 1ms/step - loss: 198096224256.0000 - mean_squared_error: 198096224256.0000\n",
      "Epoch 8/10\n",
      "183/183 [==============================] - 0s 1ms/step - loss: 195901997056.0000 - mean_squared_error: 195901997056.0000\n",
      "Epoch 9/10\n",
      "183/183 [==============================] - 0s 1ms/step - loss: 199059734528.0000 - mean_squared_error: 199059734528.0000\n",
      "Epoch 10/10\n",
      "183/183 [==============================] - 0s 1ms/step - loss: 195398500352.0000 - mean_squared_error: 195398500352.0000\n"
     ]
    },
    {
     "data": {
      "text/plain": [
       "<keras.callbacks.History at 0x7f7ff2ff0190>"
      ]
     },
     "execution_count": 47,
     "metadata": {},
     "output_type": "execute_result"
    }
   ],
   "source": [
    "X_train_preprocessed = X_train_preprocessed.toarray()\n",
    "y_train = y_train.values\n",
    "\n",
    "# Define the model architecture\n",
    "model = keras.Sequential([\n",
    "    layers.Dense(64, activation='relu', input_shape=(X_train_preprocessed.shape[1],)),\n",
    "    layers.Dense(64, activation='relu'),\n",
    "    layers.Dense(1)\n",
    "])\n",
    "\n",
    "# Compile the model\n",
    "model.compile(optimizer='adam', loss='mean_squared_error', metrics=['mean_squared_error'])\n",
    "\n",
    "# Train the model\n",
    "model.fit(X_train_preprocessed, y_train, epochs=10, batch_size=32)\n"
   ]
  }
 ],
 "metadata": {
  "kernelspec": {
   "display_name": "base",
   "language": "python",
   "name": "python3"
  },
  "language_info": {
   "codemirror_mode": {
    "name": "ipython",
    "version": 3
   },
   "file_extension": ".py",
   "mimetype": "text/x-python",
   "name": "python",
   "nbconvert_exporter": "python",
   "pygments_lexer": "ipython3",
   "version": "3.8.8"
  }
 },
 "nbformat": 4,
 "nbformat_minor": 2
}
